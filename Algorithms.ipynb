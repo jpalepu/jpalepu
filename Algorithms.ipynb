{
 "cells": [
  {
   "cell_type": "code",
   "execution_count": 10,
   "metadata": {},
   "outputs": [],
   "source": [
    "#class example implementation then going to algorithms: \n",
    "# example class: \n",
    "# class name person, has name, age, role, company. \n",
    "# class methods are: 1. calculating the salary based on age. \n",
    "# 2. getting input of the goal and what he want to be \n",
    "# 3. static method on which school he graduated from. \n",
    "\n",
    "class SchoolPeople: \n",
    "\n",
    "    def __init__(self, Name, Age, Role, Company) -> None:\n",
    "        \n",
    "        self.name  = Name\n",
    "        self.age = Age\n",
    "        self.Role = Role\n",
    "        self.company = Company\n",
    "\n",
    "    #non static method: \n",
    "    def calculatePay(self, name, age):\n",
    "\n",
    "        if(age > 25):\n",
    "            pay=30.000\n",
    "            return pay\n",
    "        else:\n",
    "            return \"Underaged\"\n",
    "        \n",
    "    #static method: this is gonna be the same for everyone. \n",
    "\n",
    "    @staticmethod\n",
    "    def graduatedFrom(name):\n",
    "        return f\"{name} graduated from Yale\"\n",
    "    \n",
    "    #non static method: \n",
    "    def Graduatedin(self):\n",
    "        return f\"{self.name} graduated from Engineering Department\"\n",
    "\n",
    "\n"
   ]
  },
  {
   "cell_type": "code",
   "execution_count": 15,
   "metadata": {},
   "outputs": [
    {
     "name": "stdout",
     "output_type": "stream",
     "text": [
      "jay graduated from Yale\n",
      "Remo graduated from Engineering Department\n"
     ]
    }
   ],
   "source": [
    "student1 = SchoolPeople(\"Remo\", 26, \"Automation Engineer\", \"Boeing\")\n",
    "print(SchoolPeople.graduatedFrom(\"jay\"))\n",
    "print(student1.Graduatedin())"
   ]
  },
  {
   "cell_type": "markdown",
   "metadata": {},
   "source": [
    "DataStructures now I am gonna finish off: \n",
    "1. Lists\n",
    "2. Dictionaries\n",
    "3. Sets\n",
    "4. Tuples\n",
    "\n",
    "----- Advanced ones -----\n",
    "\n",
    "5. Stacks\n",
    "6. Queues \n",
    "7. Heaps\n",
    "8. Linkedlists\n",
    "\n",
    "\n",
    "\n",
    "\n",
    "Arrays and Linked lists: \n",
    "\n",
    "In this section i am gonna use the concept of arrays, in python it can be done using lists. ALso, linkedlists.  \n",
    "we use array over linkedlists because of one reason that is, arrays have random access, while the linked lists have the \n",
    "sequential access. Meaning, if i want to access the 5th element, in the array i can just directly access the 5th element\n",
    "where as in the linkedlist i ahave to go through the first 4 elmeents to goto the 5th element for whatever reason it it. \n",
    "\n",
    "time complexity: \n",
    "\n",
    "                Arrays ----- Linkedlists\n",
    "        reading     O(1)         O(n)\n",
    "        inserting   O(n)         O(1)   \n",
    "        deleting    O(n)         O(1)   \n",
    "\n",
    "linked lists are better at inserting and deleting. while arrays are good at reading.\n",
    "\n",
    "\n",
    "        \n"
   ]
  },
  {
   "cell_type": "code",
   "execution_count": 24,
   "metadata": {},
   "outputs": [],
   "source": [
    "#Creating the linked list in python: \n",
    "#we can use a class do define this: \n",
    "class Node: \n",
    "    def __init__(self, data) -> None:\n",
    "        \n",
    "        self.data = data\n",
    "        self.next = None #empty at first. \n",
    "\n",
    "class LinkedList: \n",
    "    def __init__(self) -> None:\n",
    "        self.head = None\n",
    "    \n",
    "    def insertAtbeginning(self, new_data):\n",
    "        new_node = Node(new_data)\n",
    "        new_node.next = self.head\n",
    "        self.head = None\n",
    "    \n",
    "    def printList(self):\n",
    "\n",
    "        temp = self.head\n",
    "        while temp:\n",
    "            print(temp.data)\n",
    "            temp = temp.next\n",
    "    \n",
    "Linked_list = LinkedList()\n",
    "Linked_list.insertAtbeginning(\"hi\")\n",
    "Linked_list.insertAtbeginning(\"there\")\n",
    "\n",
    "#this is gonna print the list of the elements inside the linked list. \n"
   ]
  },
  {
   "cell_type": "code",
   "execution_count": 25,
   "metadata": {},
   "outputs": [
    {
     "data": {
      "text/plain": [
       "<bound method LinkedList.printList of <__main__.LinkedList object at 0x105f4daf0>>"
      ]
     },
     "execution_count": 25,
     "metadata": {},
     "output_type": "execute_result"
    }
   ],
   "source": []
  },
  {
   "cell_type": "code",
   "execution_count": 26,
   "metadata": {},
   "outputs": [],
   "source": [
    "#here i am gonna implement different types of algorithms. List is: \n",
    "'''\n",
    "list of all the algorithms im gonna implement today along with theory: \n",
    "1. Sorting Algorithms (Quicksort)\n",
    "2. Greedy Algorithms. (Huffman Coding, Dijkstras Algo)\n",
    "4. Dynamic Programming algo (Knapsack problem, shortest path in graph, travelling salesman)\n",
    "3. BFS, DFS Algo \n",
    "'''\n",
    "class Algorithms: \n",
    "\n",
    "    def __init__(self) -> None:\n",
    "        pass\n",
    "\n",
    "    def QuickSort(self, arr: list[int]) -> list[int]:    \n",
    "        return arr\n",
    "    \n",
    "    def SelectionSort(self, arr: list[int]) -> list[int]:\n",
    "        \n",
    "        '''\n",
    "        Algorithm: \n",
    "        1. we take the 1st element as the smallest one and compare sequentially with all elements in the array. \n",
    "        2. if we find another element that is smaller than 1st one, we swap the elements. \n",
    "        3. increase the min to next element\n",
    "        4. continue until list is sorted. \n",
    "        '''\n",
    "        # for i in range(len(arr)-1):\n",
    "        #     min_number = arr[i]\n",
    "        #     for i in range(i+1, len(arr)):\n",
    "        #         if(arr[j] < min_number):\n",
    "        #             min_number = arr[j]\n",
    "        #     if(arr[min_number] !\n",
    "\n",
    "    \n",
    "        return arr\n",
    "\n",
    "    def HuffmanCoding(self):\n",
    "        pass\n",
    "\n",
    "    def DijstrasAlgo(self):\n",
    "        pass\n",
    "\n",
    "    def KnapsackSol(self):\n",
    "        pass\n",
    "\n",
    "    def ShortestPathGraph(self):\n",
    "        pass\n",
    "    \n",
    "    def BFS(self):\n",
    "        pass\n",
    "\n",
    "    def DFS(self):\n",
    "        pass\n",
    "    \n",
    "\n",
    "\n",
    "    "
   ]
  },
  {
   "cell_type": "code",
   "execution_count": 28,
   "metadata": {},
   "outputs": [
    {
     "name": "stdout",
     "output_type": "stream",
     "text": [
      "[10, 30, 25, 15, 35, 20, 45, 40]\n"
     ]
    }
   ],
   "source": [
    "arr = [10,30,25,15,35,20,45,40]\n",
    "a1 = Algorithms()\n",
    "print(a1.SelectionSort(arr=arr))\n"
   ]
  },
  {
   "cell_type": "code",
   "execution_count": null,
   "metadata": {},
   "outputs": [],
   "source": []
  }
 ],
 "metadata": {
  "kernelspec": {
   "display_name": "exp_learn",
   "language": "python",
   "name": "python3"
  },
  "language_info": {
   "codemirror_mode": {
    "name": "ipython",
    "version": 3
   },
   "file_extension": ".py",
   "mimetype": "text/x-python",
   "name": "python",
   "nbconvert_exporter": "python",
   "pygments_lexer": "ipython3",
   "version": "3.12.3"
  }
 },
 "nbformat": 4,
 "nbformat_minor": 2
}
